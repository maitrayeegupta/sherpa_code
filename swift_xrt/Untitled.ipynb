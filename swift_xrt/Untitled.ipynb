{
 "cells": [
  {
   "cell_type": "code",
   "execution_count": null,
   "metadata": {},
   "outputs": [
    {
     "name": "stdout",
     "output_type": "stream",
     "text": [
      "read ARF file interval0pc.arf\n",
      "read RMF file interval0pc.rmf\n",
      "read background file interval0pcback.pi\n",
      "WARNING: filtering grouped data with quality flags, previous filters deleted\n",
      "read RMF file swiftbat_survey_full.rsp\n"
     ]
    },
    {
     "name": "stderr",
     "output_type": "stream",
     "text": [
      "/home/mike/ciao-4.11/lib/python3.5/site-packages/sherpa-ciao4.11-py3.5-linux-x86_64.egg/sherpa/astro/data.py:242: UserWarning: The minimum ENERG_LO in the ARF 'interval0pc.arf' was 0 and has been replaced by 1e-10\n",
      "  warnings.warn(wmsg)\n",
      "/home/mike/ciao-4.11/lib/python3.5/site-packages/sherpa-ciao4.11-py3.5-linux-x86_64.egg/sherpa/astro/data.py:242: UserWarning: The minimum ENERG_LO in the RMF 'interval0pc.rmf' was 0 and has been replaced by 1e-10\n",
      "  warnings.warn(wmsg)\n"
     ]
    }
   ],
   "source": [
    "from sherpa.astro import ui\n",
    "\n",
    "##load data\n",
    "ui.load_pha(1,\"interval0pc_binned.pi\")\n",
    "#group_counts(1,1) \n",
    "\n",
    "ui.ignore(None, 0.3)\n",
    "ui.ignore(7, None)\n",
    "ui.ignore_bad()\n",
    "ui.subtract(1) \n",
    "\n",
    "##load data\n",
    "ui.load_pha(2,\"bat_index_862.pha\",use_errors=True)\n",
    "er=ui.get_data(2).staterror*ui.get_exposure(2) \n",
    "ui.get_data(2).staterror=er\n",
    "\n",
    "ui.load_rmf(2,\"swiftbat_survey_full.rsp\")  \n",
    "#set_ylog()\n",
    "\n",
    "#set_method(\"moncar\")\n",
    "ui.set_method(\"simplex\")\n",
    "\n",
    "#Using Pexrav model \n",
    "\n",
    "ui.set_source(1,ui.xsphabs.abs_gal  * ui.xsconstant.xrt_const *  ui.xszphabs.abs_intr * ui.xscabs.cabs * (ui.xspexrav.pexrav + ui.xsbbody.bb))\n",
    "ui.set_source(2,ui.xsphabs.abs_gal  * ui.xsconstant.bat_const *  ui.xszphabs.abs_intr * ui.xscabs.cabs * (ui.xspexrav.pexrav + ui.xsbbody.bb))\n",
    "\n",
    "#set parameters\n",
    "abs_gal.nH = 0.053\n",
    "ui.freeze(abs_gal.nH)\n",
    "cabs.nH = 0.0\n",
    "abs_intr.nH = 0.0\n",
    "\n",
    "ui.freeze(cabs.nH)\n",
    "ui.freeze(abs_intr.nh)\n",
    "\n",
    "abs_intr.redshift = 0.0728\n",
    "ui.freeze(abs_intr.redshift)\n",
    "\n",
    "pexrav.redshift = 0.0728\n",
    "ui.freeze(pexrav.redshift)\n",
    "pexrav.cosIncl = 0.8660254 # cos 30 deg\n",
    "ui.freeze(pexrav.cosIncl)\n",
    "\n",
    "ui.set_par(pexrav.PhoIndex, val = 1.63, min = 0, max = 2, frozen=False)\n",
    "ui.set_par(pexrav.foldE, val = 60, min = 0, max = 200, frozen=False)\n",
    "ui.set_par(pexrav.rel_refl, val = 0.7, min = 0, max = 1, frozen=False)\n",
    "ui.set_par(pexrav.norm, val = 0.00021, min = 0, max = 0.1, frozen=False)\n",
    "ui.set_par(bb.kT, val = 0.09, min = 0, max = 1, frozen=False)\n",
    "ui.set_par(xrt_const.factor, val = 1,frozen=True)\n",
    "ui.set_par(bat_const.factor, val = 1.1, min = 1, max = 2, frozen=False)\n",
    "\n",
    "\n",
    "ui.guess(pexrav)\n",
    "\n",
    "#set_stat(\"wstat\")\n",
    "ui.set_stat('chi2datavar')\n",
    "\n",
    "ui.fit(1,2)\n",
    "\n",
    "ui.show_model()\n",
    "print(get_fit_results())\n",
    "#ui.conf()\n",
    "#print(\"CALC CHI SQUARE\")\n",
    "#calc_chisqr(1,2)\n",
    "#show_stat()\n",
    "\n",
    "ui.plot_fit_delchi(1)\n",
    "\n"
   ]
  },
  {
   "cell_type": "code",
   "execution_count": null,
   "metadata": {},
   "outputs": [],
   "source": []
  }
 ],
 "metadata": {
  "kernelspec": {
   "display_name": "Python 2",
   "language": "python",
   "name": "python2"
  },
  "language_info": {
   "codemirror_mode": {
    "name": "ipython",
    "version": 3
   },
   "file_extension": ".py",
   "mimetype": "text/x-python",
   "name": "python",
   "nbconvert_exporter": "python",
   "pygments_lexer": "ipython3",
   "version": "3.5.4"
  }
 },
 "nbformat": 4,
 "nbformat_minor": 2
}
