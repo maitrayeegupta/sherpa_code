{
 "cells": [
  {
   "cell_type": "code",
   "execution_count": 1,
   "metadata": {},
   "outputs": [],
   "source": [
    "from sherpa.astro import ui\n",
    "%matplotlib inline  "
   ]
  },
  {
   "cell_type": "code",
   "execution_count": 3,
   "metadata": {},
   "outputs": [
    {
     "name": "stdout",
     "output_type": "stream",
     "text": [
      "Read in XRT and BAT data\n"
     ]
    }
   ],
   "source": [
    "print(\"Read in XRT and BAT data\")"
   ]
  },
  {
   "cell_type": "code",
   "execution_count": 4,
   "metadata": {},
   "outputs": [
    {
     "name": "stdout",
     "output_type": "stream",
     "text": [
      "read ARF file interval0pc.arf\n",
      "read RMF file interval0pc.rmf\n",
      "read background file interval0pcback.pi\n",
      "WARNING: filtering grouped data with quality flags, previous filters deleted\n",
      "read RMF file swiftbat_survey_full.rsp\n"
     ]
    },
    {
     "name": "stderr",
     "output_type": "stream",
     "text": [
      "/home/mike/ciao-4.11/lib/python3.5/site-packages/sherpa-ciao4.11-py3.5-linux-x86_64.egg/sherpa/astro/data.py:242: UserWarning: The minimum ENERG_LO in the ARF 'interval0pc.arf' was 0 and has been replaced by 1e-10\n",
      "  warnings.warn(wmsg)\n",
      "/home/mike/ciao-4.11/lib/python3.5/site-packages/sherpa-ciao4.11-py3.5-linux-x86_64.egg/sherpa/astro/data.py:242: UserWarning: The minimum ENERG_LO in the RMF 'interval0pc.rmf' was 0 and has been replaced by 1e-10\n",
      "  warnings.warn(wmsg)\n"
     ]
    }
   ],
   "source": [
    "##load XRT data\n",
    "ui.load_pha(1,\"interval0pc_binned.pi\")\n",
    "ui.ignore(None, 0.3)\n",
    "ui.ignore(7, None)\n",
    "ui.ignore_bad()\n",
    "ui.subtract(1) \n",
    "\n",
    "##load BAT data\n",
    "ui.load_pha(2,\"bat_index_862.pha\",use_errors=True)\n",
    "er=ui.get_data(2).staterror*ui.get_exposure(2) \n",
    "ui.get_data(2).staterror=er\n",
    "ui.load_rmf(2,\"swiftbat_survey_full.rsp\") "
   ]
  },
  {
   "cell_type": "code",
   "execution_count": 5,
   "metadata": {},
   "outputs": [],
   "source": [
    "ui.set_method(\"simplex\")"
   ]
  },
  {
   "cell_type": "code",
   "execution_count": 6,
   "metadata": {},
   "outputs": [],
   "source": [
    "#Using Ricci model \n",
    "ui.set_source(1,ui.xsphabs.abs_gal  * ui.xsconstant.xrt_const *  ui.xszphabs.abs_intr * ui.xscabs.cabs * (ui.xspexrav.pexrav + ui.xsbbody.bb))\n",
    "ui.set_source(2,ui.xsphabs.abs_gal  * ui.xsconstant.bat_const *  ui.xszphabs.abs_intr * ui.xscabs.cabs * (ui.xspexrav.pexrav + ui.xsbbody.bb))"
   ]
  },
  {
   "cell_type": "code",
   "execution_count": 7,
   "metadata": {},
   "outputs": [],
   "source": [
    "#set parameters\n",
    "abs_gal.nH = 0.053\n",
    "ui.freeze(abs_gal.nH)\n",
    "cabs.nH = 0.0\n",
    "abs_intr.nH = 0.0\n",
    "\n",
    "ui.freeze(cabs.nH)\n",
    "ui.freeze(abs_intr.nh)\n",
    "\n",
    "abs_intr.redshift = 0.0728\n",
    "ui.freeze(abs_intr.redshift)\n",
    "\n",
    "pexrav.redshift = 0.0728\n",
    "ui.freeze(pexrav.redshift)\n",
    "pexrav.cosIncl = 0.8660254 # cos 30 deg\n",
    "ui.freeze(pexrav.cosIncl)\n",
    "\n",
    "ui.set_par(pexrav.PhoIndex, val = 1.63, min = 0, max = 2, frozen=False)\n",
    "ui.set_par(pexrav.foldE, val = 60, min = 0, max = 200, frozen=False)\n",
    "ui.set_par(pexrav.rel_refl, val = 0.7, min = 0, max = 1, frozen=False)\n",
    "ui.set_par(pexrav.norm, val = 0.00021, min = 0, max = 0.1, frozen=False)\n",
    "ui.set_par(bb.kT, val = 0.09, min = 0, max = 1, frozen=False)\n",
    "ui.set_par(xrt_const.factor, val = 1,frozen=True)\n",
    "ui.set_par(bat_const.factor, val = 1.1, min = 1, max = 2, frozen=False)"
   ]
  },
  {
   "cell_type": "code",
   "execution_count": 8,
   "metadata": {},
   "outputs": [],
   "source": [
    "ui.guess(pexrav)"
   ]
  },
  {
   "cell_type": "code",
   "execution_count": 9,
   "metadata": {},
   "outputs": [],
   "source": [
    "ui.plot_data(1)"
   ]
  },
  {
   "cell_type": "code",
   "execution_count": 10,
   "metadata": {},
   "outputs": [
    {
     "name": "stdout",
     "output_type": "stream",
     "text": [
      "Datasets              = 1, 2\n",
      "Method                = neldermead\n",
      "Statistic             = chi2datavar\n",
      "Initial fit statistic = 3.05605e+11\n",
      "Final fit statistic   = 58.3397 at function evaluation 1992\n",
      "Data points           = 53\n",
      "Degrees of freedom    = 46\n",
      "Probability [Q-value] = 0.104773\n",
      "Reduced statistic     = 1.26825\n",
      "Change in statistic   = 3.05605e+11\n",
      "   pexrav.PhoIndex   1.61731     \n",
      "   pexrav.foldE   45.8393     \n",
      "   pexrav.rel_refl   0.0542044   \n",
      "   pexrav.norm    0.000730106 \n",
      "   bb.kT          0.00517325  \n",
      "   bb.norm        0.0586957   \n",
      "   bat_const.factor   1           \n"
     ]
    }
   ],
   "source": [
    "ui.set_stat('chi2datavar')\n",
    "ui.fit(1,2)"
   ]
  },
  {
   "cell_type": "code",
   "execution_count": 11,
   "metadata": {},
   "outputs": [],
   "source": [
    "ui.show_model()"
   ]
  },
  {
   "cell_type": "code",
   "execution_count": 12,
   "metadata": {},
   "outputs": [
    {
     "name": "stdout",
     "output_type": "stream",
     "text": [
      "datasets       = (1, 2)\n",
      "itermethodname = none\n",
      "methodname     = neldermead\n",
      "statname       = chi2datavar\n",
      "succeeded      = True\n",
      "parnames       = ('pexrav.PhoIndex', 'pexrav.foldE', 'pexrav.rel_refl', 'pexrav.norm', 'bb.kT', 'bb.norm', 'bat_const.factor')\n",
      "parvals        = (1.6173068933730159, 45.839271690163216, 0.054204358986152119, 0.00073010596183386352, 0.0051732501169106928, 0.058695747079623634, 1.0000013573077584)\n",
      "statval        = 58.33965005866774\n",
      "istatval       = 305604934414.9142\n",
      "dstatval       = 305604934357.0\n",
      "numpoints      = 53\n",
      "dof            = 46\n",
      "qval           = 0.104773209481\n",
      "rstat          = 1.268253262144951\n",
      "message        = Optimization terminated successfully\n",
      "nfev           = 1992\n"
     ]
    }
   ],
   "source": [
    "print(ui.get_fit_results())"
   ]
  },
  {
   "cell_type": "code",
   "execution_count": 13,
   "metadata": {},
   "outputs": [],
   "source": [
    "ui.plot_fit_delchi(1)"
   ]
  },
  {
   "cell_type": "code",
   "execution_count": 2,
   "metadata": {},
   "outputs": [
    {
     "name": "stdout",
     "output_type": "stream",
     "text": [
      "Read in Chandra and BAT data\n"
     ]
    }
   ],
   "source": [
    "print(\"Read in Chandra and BAT data\")"
   ]
  },
  {
   "cell_type": "code",
   "execution_count": 3,
   "metadata": {},
   "outputs": [
    {
     "name": "stdout",
     "output_type": "stream",
     "text": [
      "read ARF file ../chandra/spec.arf\n",
      "read RMF file ../chandra/spec.rmf\n",
      "read ARF (background) file ../chandra/spec_bkg.arf\n",
      "read RMF (background) file ../chandra/spec_bkg.rmf\n",
      "read background file ../chandra/spec_bkg.pi\n",
      "read RMF file swiftbat_survey_full.rsp\n"
     ]
    }
   ],
   "source": [
    "##load Chandra data\n",
    "ui.load_pha(1,\"../chandra/spec_binned.pi\")\n",
    "#group_counts(1,5)\n",
    "ui.ignore(None, 0.3)\n",
    "ui.ignore(7, None)\n",
    "ui.subtract(1)\n",
    "\n",
    "##load BAT data\n",
    "##load data\n",
    "ui.load_pha(2,\"bat_index_862.pha\",use_errors=True)\n",
    "er=ui.get_data(2).staterror*ui.get_exposure(2) \n",
    "ui.get_data(2).staterror=er\n",
    "ui.load_rmf(2,\"swiftbat_survey_full.rsp\")  "
   ]
  },
  {
   "cell_type": "code",
   "execution_count": 5,
   "metadata": {},
   "outputs": [],
   "source": [
    "ui.set_method(\"simplex\")"
   ]
  },
  {
   "cell_type": "code",
   "execution_count": 6,
   "metadata": {},
   "outputs": [],
   "source": [
    "ui.set_source(1,ui.xsphabs.abs_gal  * ui.xsconstant.chandra_const *  ui.xszphabs.abs_intr * ui.xscabs.cabs * (ui.xspexrav.pexrav + ui.xsbbody.bb))\n",
    "ui.set_source(2,ui.xsphabs.abs_gal  * ui.xsconstant.bat_const *  ui.xszphabs.abs_intr * ui.xscabs.cabs * (ui.xspexrav.pexrav + ui.xsbbody.bb))"
   ]
  },
  {
   "cell_type": "code",
   "execution_count": 7,
   "metadata": {},
   "outputs": [],
   "source": [
    "#set parameters\n",
    "abs_gal.nH = 0.053\n",
    "ui.freeze(abs_gal.nH)\n",
    "cabs.nH = 0.0\n",
    "abs_intr.nH = 0.02\n",
    "\n",
    "ui.freeze(cabs.nH)\n",
    "#ui.freeze(abs_intr.nh)\n",
    "\n",
    "abs_intr.redshift = 0.0728\n",
    "ui.freeze(abs_intr.redshift)\n",
    "\n",
    "pexrav.redshift = 0.0728\n",
    "ui.freeze(pexrav.redshift)\n",
    "pexrav.cosIncl = 0.8660254 # cos 30 deg\n",
    "ui.freeze(pexrav.cosIncl)\n",
    "\n",
    "ui.set_par(pexrav.PhoIndex, val = 1.63, min = 0, max = 2, frozen=False)\n",
    "ui.set_par(pexrav.foldE, val = 60, min = 0, max = 200, frozen=False)\n",
    "ui.set_par(pexrav.rel_refl, val = 0.7, min = 0, max = 1, frozen=False)\n",
    "ui.set_par(pexrav.norm, val = 0.00021, min = 0, max = 0.1, frozen=False)\n",
    "ui.set_par(bb.kT, val = 0.09, min = 0, max = 1, frozen=False)\n",
    "ui.set_par(chandra_const.factor, val = 1,frozen=True)\n",
    "ui.set_par(bat_const.factor, val = 1.1, min = 1, max = 2, frozen=False)\n",
    "\n",
    "ui.guess(pexrav)"
   ]
  },
  {
   "cell_type": "code",
   "execution_count": 8,
   "metadata": {},
   "outputs": [],
   "source": [
    "add_pileup_model=1\n",
    "if(add_pileup_model):\n",
    "    ui.set_pileup_model(1,ui.jdpileup.jdp)\n",
    "    ui.set_par(jdp.alpha, val = 0.5, min = 0, max = 1, frozen=False)\n",
    "    ui.set_par(jdp.g0, val = 1, frozen=True)\n",
    "    ui.set_par(jdp.f, val = 0.95, frozen=True)\n",
    "    ui.set_par(jdp.n, val = 1, frozen=True)\n",
    "    ui.set_par(jdp.ftime, val = 0.4, frozen=True)\n",
    "    ui.set_par(jdp.fracexp, val = 1, frozen=True)\n",
    "    ui.set_par(jdp.nterms, val = 30, frozen=True)"
   ]
  },
  {
   "cell_type": "code",
   "execution_count": 9,
   "metadata": {},
   "outputs": [],
   "source": [
    "ui.plot_data(1)"
   ]
  },
  {
   "cell_type": "code",
   "execution_count": 10,
   "metadata": {},
   "outputs": [
    {
     "name": "stdout",
     "output_type": "stream",
     "text": [
      "Datasets              = 1, 2\n",
      "Method                = neldermead\n",
      "Statistic             = chi2datavar\n",
      "Initial fit statistic = 1.33494e+10\n",
      "Final fit statistic   = 79.4 at function evaluation 3322\n",
      "Data points           = 109\n",
      "Degrees of freedom    = 100\n",
      "Probability [Q-value] = 0.936083\n",
      "Reduced statistic     = 0.794\n",
      "Change in statistic   = 1.33494e+10\n",
      "   jdp.alpha      0.999992    \n",
      "   abs_intr.nH    0.119285    \n",
      "   pexrav.PhoIndex   1.47272     \n",
      "   pexrav.foldE   55.6176     \n",
      "   pexrav.rel_refl   3.71786e-06 \n",
      "   pexrav.norm    0.000234393 \n",
      "   bb.kT          0.0594597   \n",
      "   bb.norm        1.49467e-05 \n",
      "   bat_const.factor   1.69127     \n"
     ]
    }
   ],
   "source": [
    "ui.set_stat('chi2datavar')\n",
    "ui.fit(1,2)"
   ]
  },
  {
   "cell_type": "code",
   "execution_count": 11,
   "metadata": {},
   "outputs": [],
   "source": [
    "ui.show_model()"
   ]
  },
  {
   "cell_type": "code",
   "execution_count": 12,
   "metadata": {},
   "outputs": [
    {
     "name": "stdout",
     "output_type": "stream",
     "text": [
      "datasets       = (1, 2)\n",
      "itermethodname = none\n",
      "methodname     = neldermead\n",
      "statname       = chi2datavar\n",
      "succeeded      = True\n",
      "parnames       = ('jdp.alpha', 'abs_intr.nH', 'pexrav.PhoIndex', 'pexrav.foldE', 'pexrav.rel_refl', 'pexrav.norm', 'bb.kT', 'bb.norm', 'bat_const.factor')\n",
      "parvals        = (0.99999243216092704, 0.11928474542822656, 1.4727231556378313, 55.617612079558207, 3.7178619945241194e-06, 0.00023439261749394583, 0.059459682906569153, 1.4946748811265143e-05, 1.6912690165706921)\n",
      "statval        = 79.39995669233751\n",
      "istatval       = 13349395973.508175\n",
      "dstatval       = 13349395894.1\n",
      "numpoints      = 109\n",
      "dof            = 100\n",
      "qval           = 0.936083456588\n",
      "rstat          = 0.7939995669233751\n",
      "message        = Optimization terminated successfully\n",
      "nfev           = 3322\n"
     ]
    }
   ],
   "source": [
    "print(ui.get_fit_results())"
   ]
  },
  {
   "cell_type": "code",
   "execution_count": 13,
   "metadata": {},
   "outputs": [],
   "source": [
    "ui.plot_fit_delchi(1)"
   ]
  },
  {
   "cell_type": "code",
   "execution_count": 14,
   "metadata": {},
   "outputs": [
    {
     "name": "stdout",
     "output_type": "stream",
     "text": [
      "energy flux = 1.30155239835e-12\n"
     ]
    }
   ],
   "source": [
    "energy = ui.calc_energy_flux(0.3,7)  \n",
    "print (\"energy flux =\",energy)"
   ]
  }
 ],
 "metadata": {
  "kernelspec": {
   "display_name": "Python 2",
   "language": "python",
   "name": "python2"
  },
  "language_info": {
   "codemirror_mode": {
    "name": "ipython",
    "version": 3
   },
   "file_extension": ".py",
   "mimetype": "text/x-python",
   "name": "python",
   "nbconvert_exporter": "python",
   "pygments_lexer": "ipython3",
   "version": "3.5.4"
  }
 },
 "nbformat": 4,
 "nbformat_minor": 2
}
