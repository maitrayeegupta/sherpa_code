{
 "cells": [
  {
   "cell_type": "code",
   "execution_count": 1,
   "metadata": {},
   "outputs": [],
   "source": [
    "from sherpa.astro import ui\n",
    "%matplotlib inline  "
   ]
  },
  {
   "cell_type": "code",
   "execution_count": 3,
   "metadata": {},
   "outputs": [
    {
     "name": "stdout",
     "output_type": "stream",
     "text": [
      "Read in XRT and BAT data\n"
     ]
    }
   ],
   "source": [
    "print(\"Read in XRT and BAT data\")"
   ]
  },
  {
   "cell_type": "code",
   "execution_count": 4,
   "metadata": {},
   "outputs": [
    {
     "name": "stdout",
     "output_type": "stream",
     "text": [
      "read ARF file interval0pc.arf\n",
      "read RMF file interval0pc.rmf\n",
      "read background file interval0pcback.pi\n",
      "WARNING: filtering grouped data with quality flags, previous filters deleted\n",
      "read RMF file swiftbat_survey_full.rsp\n"
     ]
    },
    {
     "name": "stderr",
     "output_type": "stream",
     "text": [
      "/home/mike/ciao-4.11/lib/python3.5/site-packages/sherpa-ciao4.11-py3.5-linux-x86_64.egg/sherpa/astro/data.py:242: UserWarning: The minimum ENERG_LO in the ARF 'interval0pc.arf' was 0 and has been replaced by 1e-10\n",
      "  warnings.warn(wmsg)\n",
      "/home/mike/ciao-4.11/lib/python3.5/site-packages/sherpa-ciao4.11-py3.5-linux-x86_64.egg/sherpa/astro/data.py:242: UserWarning: The minimum ENERG_LO in the RMF 'interval0pc.rmf' was 0 and has been replaced by 1e-10\n",
      "  warnings.warn(wmsg)\n"
     ]
    }
   ],
   "source": [
    "##load XRT data\n",
    "ui.load_pha(1,\"interval0pc_binned.pi\")\n",
    "ui.ignore(None, 0.3)\n",
    "ui.ignore(7, None)\n",
    "ui.ignore_bad()\n",
    "ui.subtract(1) \n",
    "\n",
    "##load BAT data\n",
    "ui.load_pha(2,\"bat_index_862.pha\",use_errors=True)\n",
    "er=ui.get_data(2).staterror*ui.get_exposure(2) \n",
    "ui.get_data(2).staterror=er\n",
    "ui.load_rmf(2,\"swiftbat_survey_full.rsp\") "
   ]
  },
  {
   "cell_type": "code",
   "execution_count": 5,
   "metadata": {},
   "outputs": [],
   "source": [
    "ui.set_method(\"simplex\")"
   ]
  },
  {
   "cell_type": "code",
   "execution_count": 6,
   "metadata": {},
   "outputs": [],
   "source": [
    "#Using Ricci model \n",
    "ui.set_source(1,ui.xsphabs.abs_gal  * ui.xsconstant.xrt_const *  ui.xszphabs.abs_intr * ui.xscabs.cabs * (ui.xspexrav.pexrav + ui.xsbbody.bb))\n",
    "ui.set_source(2,ui.xsphabs.abs_gal  * ui.xsconstant.bat_const *  ui.xszphabs.abs_intr * ui.xscabs.cabs * (ui.xspexrav.pexrav + ui.xsbbody.bb))"
   ]
  },
  {
   "cell_type": "code",
   "execution_count": 7,
   "metadata": {},
   "outputs": [],
   "source": [
    "#set parameters\n",
    "abs_gal.nH = 0.053\n",
    "ui.freeze(abs_gal.nH)\n",
    "cabs.nH = 0.0\n",
    "abs_intr.nH = 0.0\n",
    "\n",
    "ui.freeze(cabs.nH)\n",
    "ui.freeze(abs_intr.nh)\n",
    "\n",
    "abs_intr.redshift = 0.0728\n",
    "ui.freeze(abs_intr.redshift)\n",
    "\n",
    "pexrav.redshift = 0.0728\n",
    "ui.freeze(pexrav.redshift)\n",
    "pexrav.cosIncl = 0.8660254 # cos 30 deg\n",
    "ui.freeze(pexrav.cosIncl)\n",
    "\n",
    "ui.set_par(pexrav.PhoIndex, val = 1.63, min = 0, max = 2, frozen=False)\n",
    "ui.set_par(pexrav.foldE, val = 60, min = 0, max = 200, frozen=False)\n",
    "ui.set_par(pexrav.rel_refl, val = 0.7, min = 0, max = 1, frozen=False)\n",
    "ui.set_par(pexrav.norm, val = 0.00021, min = 0, max = 0.1, frozen=False)\n",
    "ui.set_par(bb.kT, val = 0.09, min = 0, max = 1, frozen=False)\n",
    "ui.set_par(xrt_const.factor, val = 1,frozen=True)\n",
    "ui.set_par(bat_const.factor, val = 1.1, min = 1, max = 2, frozen=False)"
   ]
  },
  {
   "cell_type": "code",
   "execution_count": 8,
   "metadata": {},
   "outputs": [],
   "source": [
    "ui.guess(pexrav)"
   ]
  },
  {
   "cell_type": "code",
   "execution_count": 9,
   "metadata": {},
   "outputs": [],
   "source": [
    "ui.plot_data(1)"
   ]
  },
  {
   "cell_type": "code",
   "execution_count": 10,
   "metadata": {},
   "outputs": [
    {
     "name": "stdout",
     "output_type": "stream",
     "text": [
      "Datasets              = 1, 2\n",
      "Method                = neldermead\n",
      "Statistic             = chi2datavar\n",
      "Initial fit statistic = 3.05605e+11\n",
      "Final fit statistic   = 58.3397 at function evaluation 1992\n",
      "Data points           = 53\n",
      "Degrees of freedom    = 46\n",
      "Probability [Q-value] = 0.104773\n",
      "Reduced statistic     = 1.26825\n",
      "Change in statistic   = 3.05605e+11\n",
      "   pexrav.PhoIndex   1.61731     \n",
      "   pexrav.foldE   45.8393     \n",
      "   pexrav.rel_refl   0.0542044   \n",
      "   pexrav.norm    0.000730106 \n",
      "   bb.kT          0.00517325  \n",
      "   bb.norm        0.0586957   \n",
      "   bat_const.factor   1           \n"
     ]
    }
   ],
   "source": [
    "ui.set_stat('chi2datavar')\n",
    "ui.fit(1,2)"
   ]
  },
  {
   "cell_type": "code",
   "execution_count": 11,
   "metadata": {},
   "outputs": [],
   "source": [
    "ui.show_model()"
   ]
  },
  {
   "cell_type": "code",
   "execution_count": 12,
   "metadata": {},
   "outputs": [
    {
     "name": "stdout",
     "output_type": "stream",
     "text": [
      "datasets       = (1, 2)\n",
      "itermethodname = none\n",
      "methodname     = neldermead\n",
      "statname       = chi2datavar\n",
      "succeeded      = True\n",
      "parnames       = ('pexrav.PhoIndex', 'pexrav.foldE', 'pexrav.rel_refl', 'pexrav.norm', 'bb.kT', 'bb.norm', 'bat_const.factor')\n",
      "parvals        = (1.6173068933730159, 45.839271690163216, 0.054204358986152119, 0.00073010596183386352, 0.0051732501169106928, 0.058695747079623634, 1.0000013573077584)\n",
      "statval        = 58.33965005866774\n",
      "istatval       = 305604934414.9142\n",
      "dstatval       = 305604934357.0\n",
      "numpoints      = 53\n",
      "dof            = 46\n",
      "qval           = 0.104773209481\n",
      "rstat          = 1.268253262144951\n",
      "message        = Optimization terminated successfully\n",
      "nfev           = 1992\n"
     ]
    }
   ],
   "source": [
    "print(ui.get_fit_results())"
   ]
  },
  {
   "cell_type": "code",
   "execution_count": 13,
   "metadata": {},
   "outputs": [],
   "source": [
    "ui.plot_fit_delchi(1)"
   ]
  },
  {
   "cell_type": "code",
   "execution_count": 2,
   "metadata": {},
   "outputs": [
    {
     "name": "stdout",
     "output_type": "stream",
     "text": [
      "Read in Chandra and BAT data\n"
     ]
    }
   ],
   "source": [
    "print(\"Read in Chandra and BAT data\")"
   ]
  },
  {
   "cell_type": "code",
   "execution_count": 3,
   "metadata": {},
   "outputs": [
    {
     "name": "stdout",
     "output_type": "stream",
     "text": [
      "read ARF file ../chandra/spec.arf\n",
      "read RMF file ../chandra/spec.rmf\n",
      "read ARF (background) file ../chandra/spec_bkg.arf\n",
      "read RMF (background) file ../chandra/spec_bkg.rmf\n",
      "read background file ../chandra/spec_bkg.pi\n",
      "read RMF file swiftbat_survey_full.rsp\n"
     ]
    }
   ],
   "source": [
    "##load Chandra data\n",
    "ui.load_pha(1,\"../chandra/spec_binned.pi\")\n",
    "#group_counts(1,5)\n",
    "ui.ignore(None, 0.3)\n",
    "ui.ignore(7, None)\n",
    "ui.subtract(1)\n",
    "\n",
    "##load BAT data\n",
    "##load data\n",
    "ui.load_pha(2,\"bat_index_862.pha\",use_errors=True)\n",
    "er=ui.get_data(2).staterror*ui.get_exposure(2) \n",
    "ui.get_data(2).staterror=er\n",
    "ui.load_rmf(2,\"swiftbat_survey_full.rsp\")  "
   ]
  },
  {
   "cell_type": "code",
   "execution_count": 4,
   "metadata": {},
   "outputs": [],
   "source": [
    "ui.set_method(\"simplex\")"
   ]
  },
  {
   "cell_type": "code",
   "execution_count": 5,
   "metadata": {},
   "outputs": [],
   "source": [
    "ui.set_source(1,ui.xsphabs.abs_gal  * ui.xsconstant.chandra_const *  ui.xszphabs.abs_intr * ui.xscabs.cabs * (ui.xspexrav.pexrav + ui.xsbbody.bb))\n",
    "ui.set_source(2,ui.xsphabs.abs_gal  * ui.xsconstant.bat_const *  ui.xszphabs.abs_intr * ui.xscabs.cabs * (ui.xspexrav.pexrav + ui.xsbbody.bb))"
   ]
  },
  {
   "cell_type": "code",
   "execution_count": 6,
   "metadata": {},
   "outputs": [],
   "source": [
    "#set parameters\n",
    "abs_gal.nH = 0.053\n",
    "ui.freeze(abs_gal.nH)\n",
    "cabs.nH = 0.0\n",
    "abs_intr.nH = 0.00\n",
    "\n",
    "ui.freeze(cabs.nH)\n",
    "ui.freeze(abs_intr.nh)\n",
    "\n",
    "abs_intr.redshift = 0.0728\n",
    "ui.freeze(abs_intr.redshift)\n",
    "\n",
    "pexrav.redshift = 0.0728\n",
    "ui.freeze(pexrav.redshift)\n",
    "pexrav.cosIncl = 0.8660254 # cos 30 deg\n",
    "ui.freeze(pexrav.cosIncl)\n",
    "\n",
    "ui.set_par(pexrav.PhoIndex, val = 1.63, min = 0, max = 2, frozen=False)\n",
    "ui.set_par(pexrav.foldE, val = 60, min = 0, max = 200, frozen=False)\n",
    "ui.set_par(pexrav.rel_refl, val = 0.7, min = 0, max = 1, frozen=False)\n",
    "ui.set_par(pexrav.norm, val = 0.00021, min = 0, max = 0.1, frozen=False)\n",
    "ui.set_par(bb.kT, val = 0.09, min = 0, max = 1, frozen=False)\n",
    "ui.set_par(chandra_const.factor, val = 1,frozen=True)\n",
    "ui.set_par(bat_const.factor, val = 1.1, min = 1, max = 2, frozen=False)\n",
    "\n",
    "ui.guess(pexrav)"
   ]
  },
  {
   "cell_type": "code",
   "execution_count": 7,
   "metadata": {},
   "outputs": [],
   "source": [
    "add_pileup_model=1\n",
    "if(add_pileup_model):\n",
    "    ui.set_pileup_model(1,ui.jdpileup.jdp)\n",
    "    ui.set_par(jdp.alpha, val = 0.5, min = 0, max = 1, frozen=False)\n",
    "    ui.set_par(jdp.g0, val = 1, frozen=True)\n",
    "    ui.set_par(jdp.f, val = 0.95, frozen=True)\n",
    "    ui.set_par(jdp.n, val = 1, frozen=True)\n",
    "    ui.set_par(jdp.ftime, val = 0.4, frozen=True)\n",
    "    ui.set_par(jdp.fracexp, val = 1, frozen=True)\n",
    "    ui.set_par(jdp.nterms, val = 30, frozen=True)"
   ]
  },
  {
   "cell_type": "code",
   "execution_count": 8,
   "metadata": {},
   "outputs": [],
   "source": [
    "ui.plot_data(1)"
   ]
  },
  {
   "cell_type": "code",
   "execution_count": 9,
   "metadata": {},
   "outputs": [
    {
     "name": "stdout",
     "output_type": "stream",
     "text": [
      "Datasets              = 1, 2\n",
      "Method                = neldermead\n",
      "Statistic             = chi2datavar\n",
      "Initial fit statistic = 1.82988e+10\n",
      "Final fit statistic   = 87.3742 at function evaluation 3125\n",
      "Data points           = 109\n",
      "Degrees of freedom    = 101\n",
      "Probability [Q-value] = 0.830992\n",
      "Reduced statistic     = 0.865091\n",
      "Change in statistic   = 1.82988e+10\n",
      "   jdp.alpha      0.00176041  \n",
      "   pexrav.PhoIndex   1.17459     \n",
      "   pexrav.foldE   23.1318     \n",
      "   pexrav.rel_refl   2.66845e-06 \n",
      "   pexrav.norm    0.000183767 \n",
      "   bb.kT          0.0127806   \n",
      "   bb.norm        8.66676     \n",
      "   bat_const.factor   1.72524     \n"
     ]
    }
   ],
   "source": [
    "ui.set_stat('chi2datavar')\n",
    "ui.fit(1,2)"
   ]
  },
  {
   "cell_type": "code",
   "execution_count": 10,
   "metadata": {},
   "outputs": [],
   "source": [
    "ui.show_model()"
   ]
  },
  {
   "cell_type": "code",
   "execution_count": 11,
   "metadata": {},
   "outputs": [
    {
     "name": "stdout",
     "output_type": "stream",
     "text": [
      "datasets       = (1, 2)\n",
      "itermethodname = none\n",
      "methodname     = neldermead\n",
      "statname       = chi2datavar\n",
      "succeeded      = True\n",
      "parnames       = ('jdp.alpha', 'pexrav.PhoIndex', 'pexrav.foldE', 'pexrav.rel_refl', 'pexrav.norm', 'bb.kT', 'bb.norm', 'bat_const.factor')\n",
      "parvals        = (0.0017604086892066611, 1.1745918159482565, 23.131816782874559, 2.6684490074836627e-06, 0.00018376658993072211, 0.012780553846914872, 8.6667587636015426, 1.7252411094971098)\n",
      "statval        = 87.37415919924494\n",
      "istatval       = 18298778555.895622\n",
      "dstatval       = 18298778468.5\n",
      "numpoints      = 109\n",
      "dof            = 101\n",
      "qval           = 0.830992124288\n",
      "rstat          = 0.865090685141039\n",
      "message        = Optimization terminated successfully\n",
      "nfev           = 3125\n"
     ]
    }
   ],
   "source": [
    "print(ui.get_fit_results())"
   ]
  },
  {
   "cell_type": "code",
   "execution_count": 12,
   "metadata": {},
   "outputs": [],
   "source": [
    "ui.plot_fit_delchi(1)"
   ]
  },
  {
   "cell_type": "code",
   "execution_count": 13,
   "metadata": {},
   "outputs": [
    {
     "name": "stdout",
     "output_type": "stream",
     "text": [
      "energy flux = 1.41181333722e-12\n"
     ]
    }
   ],
   "source": [
    "energy = ui.calc_energy_flux(0.3,7)  \n",
    "print (\"energy flux =\",energy)"
   ]
  }
 ],
 "metadata": {
  "kernelspec": {
   "display_name": "Python 2",
   "language": "python",
   "name": "python2"
  },
  "language_info": {
   "codemirror_mode": {
    "name": "ipython",
    "version": 3
   },
   "file_extension": ".py",
   "mimetype": "text/x-python",
   "name": "python",
   "nbconvert_exporter": "python",
   "pygments_lexer": "ipython3",
   "version": "3.5.4"
  }
 },
 "nbformat": 4,
 "nbformat_minor": 2
}
